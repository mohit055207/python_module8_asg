{
  "nbformat": 4,
  "nbformat_minor": 0,
  "metadata": {
    "colab": {
      "provenance": []
    },
    "kernelspec": {
      "name": "python3",
      "display_name": "Python 3"
    },
    "language_info": {
      "name": "python"
    }
  },
  "cells": [
    {
      "cell_type": "markdown",
      "source": [
        "# modelue 8: Restful API & Flask assignment"
      ],
      "metadata": {
        "id": "Qs9unSutzjni"
      }
    },
    {
      "cell_type": "markdown",
      "source": [
        "#theoretical questions"
      ],
      "metadata": {
        "id": "NOpL0rSgzLF_"
      }
    },
    {
      "cell_type": "markdown",
      "source": [
        "1. What is a RESTful API?\n",
        "-> A RESTful API (Application Programming Interface) is an API that follows the principles of Representational State Transfer (REST), a software architectural style, using HTTP requests to access and manipulate data resources."
      ],
      "metadata": {
        "id": "r0BlQr-ZzvaN"
      }
    },
    {
      "cell_type": "markdown",
      "source": [
        "2. Explain the concept of API specification?\n",
        "-> An API specification is a formal document that describes an API's structure, functionality, and behavior, acting as a blueprint for developers building or using the API. It details operations, endpoints, input/output formats, and data models, often written in machine-readable formats like YAML or JSON."
      ],
      "metadata": {
        "id": "USj0e1wsz4z8"
      }
    },
    {
      "cell_type": "markdown",
      "source": [
        "3. What is Flask, and why is it popular for building APIs?\n",
        "-> Flask makes it easy to create REST APIs to handle CRUD operations — Create, Read, Update, and Delete — which form the foundation of data manipulation in most web applications."
      ],
      "metadata": {
        "id": "GEajMP9e0G2T"
      }
    },
    {
      "cell_type": "markdown",
      "source": [
        "4. What is routing in Flask?\n",
        "\n",
        "-> App routing is the technique used to map the specific URL with the associated function intended to perform some task."
      ],
      "metadata": {
        "id": "ALbuE1Xw0NLP"
      }
    },
    {
      "cell_type": "markdown",
      "source": [
        "5. How do you create a simple Flask application?\n",
        "-> A Minimal Application\n",
        "* First we imported the Flask class. An instance of this class will be our WSGI application.\n",
        "* Next we create an instance of this class. ...\n",
        "* We then use the route() decorator to tell Flask what URL should trigger our function.\n",
        "* The function returns the message we want to display in the user's browser."
      ],
      "metadata": {
        "id": "4Z9xN3Jg0n4D"
      }
    },
    {
      "cell_type": "markdown",
      "source": [
        "6. What are HTTP methods used in RESTful APIs?\n",
        "-> In RESTful APIs, the primary HTTP methods used are GET (retrieve), POST (create), PUT (update), PATCH (partial update), and DELETE (remove)."
      ],
      "metadata": {
        "id": "0v0NJdFL0zxy"
      }
    },
    {
      "cell_type": "markdown",
      "source": [
        "7. What is the purpose of the @app.route() decorator in Flask?\n",
        "-> this decorator converts a function into a route that can be accessed by the browser without having to explicitly invoke the function in the program."
      ],
      "metadata": {
        "id": "C69XveRF09Ok"
      }
    },
    {
      "cell_type": "markdown",
      "source": [
        "8. What is the difference between GET and POST HTTP methods?\n",
        "-> The primary difference between GET and POST HTTP methods lies in their intended use: GET requests retrieve data from a server, while POST requests send data to a server for creation or modification, often used for submitting forms or uploading files."
      ],
      "metadata": {
        "id": "K6ScS2As1IMo"
      }
    },
    {
      "cell_type": "markdown",
      "source": [
        "9. How do you handle errors in Flask APIs?\n",
        "-> When an error occurs in Flask, an appropriate HTTP status code will be returned. 400-499 indicate errors with the client's request data, or about the data requested. 500-599 indicate errors with the server or application itself."
      ],
      "metadata": {
        "id": "ghcX3bDq1Ntc"
      }
    },
    {
      "cell_type": "markdown",
      "source": [
        "10. How do you connect Flask to a SQL database?\n",
        "-> SQlite is installed on Linux systems by default, and is installed as part of the Python package on Windows.\n",
        "Prerequisites.\n",
        "* Installing Flask and Flask-SQLAlchemy.\n",
        "* Setting up the Database and Model.\n",
        "* Displaying All Records.\n",
        "* Displaying a Single Record.\n",
        "* Creating a New Record."
      ],
      "metadata": {
        "id": "0c-7Hgbb1XTf"
      }
    },
    {
      "cell_type": "markdown",
      "source": [
        "11. What is the role of Flask-SQLAlchemy?\n",
        "-> Flask-SQLAlchemy is a Flask extension that simplifies the integration of the SQLAlchemy library, a powerful SQL toolkit and ORM (Object-Relational Mapper), into Flask applications, providing a streamlined way to interact with databases."
      ],
      "metadata": {
        "id": "JR9onjXu1ozc"
      }
    },
    {
      "cell_type": "markdown",
      "source": [
        "12. What are Flask blueprints, and how are they useful?\n",
        "-> Flask uses a concept of blueprints for making application components and supporting common patterns within an application or across applications."
      ],
      "metadata": {
        "id": "km4TuDxV1xww"
      }
    },
    {
      "cell_type": "markdown",
      "source": [
        "13. What is the purpose of Flask's request object?\n",
        "-> In the client-server architecture, the request object contains all the data that is sent from the client to the server. As we have already discussed in the tutorial, we can retrieve the data at the server side using the HTTP methods."
      ],
      "metadata": {
        "id": "6I2sF2sd12TX"
      }
    },
    {
      "cell_type": "markdown",
      "source": [
        "14. How do you create a RESTful API endpoint using Flask?\n",
        "-> steps arelisted below:-\n",
        "* Create a directory to store your Flask web application and move into the directory. ...\n",
        "* Inside the example_app directory, create a new file named prog_lang_app.py . ...\n",
        "* Create and activate a virtual environment using the following command: python3 -m venv venv ."
      ],
      "metadata": {
        "id": "sG3wIJPF16um"
      }
    },
    {
      "cell_type": "markdown",
      "source": [
        "15. What is the purpose of Flask's jsonify() function?\n",
        "-> Flask's jsonify() function simplifies creating JSON responses by converting Python objects into JSON format and automatically setting the Content-Type header to application/json."
      ],
      "metadata": {
        "id": "rVhb9_VC2PvB"
      }
    },
    {
      "cell_type": "markdown",
      "source": [
        "16. Explain Flask’s url_for() function?\n",
        "-> Flask provides a convenient way to generate URLs for static files using the url_for function. This ensures that the URLs are dynamically generated and correctly handled by the application. In this example, the url_for function generates the URL for the style. css file located in the static folder."
      ],
      "metadata": {
        "id": "1CH4b5mM2Ken"
      }
    },
    {
      "cell_type": "markdown",
      "source": [
        "17. How does Flask handle static files (CSS, JavaScript, etc.)?\n",
        "-> The key is that you put the static files in a directory called static next to the main application file and in the HTML skeleton you refer to the files as /static/.... I put the css file in a subdirectory called css and the image in a subdirectory called img."
      ],
      "metadata": {
        "id": "5TbafUib2ZpV"
      }
    },
    {
      "cell_type": "markdown",
      "source": [
        "18. What is an API specification, and how does it help in building a Flask API?\n",
        "-> An API specification is a formal document that acts as a blueprint for an API, detailing its operations, endpoints, input/output, and data models, essentially defining how an API behaves and interacts.\n",
        "* API specification helps in building a Flask API by clearly defining the endpoints, request/response formats, and data types, making development structured and consistent. It acts as a blueprint, guiding both backend and frontend teams. Tools like OpenAPI/Swagger can generate documentation and even code stubs, speeding up development and reducing errors."
      ],
      "metadata": {
        "id": "Yi0b2_ni2d_d"
      }
    },
    {
      "cell_type": "markdown",
      "source": [
        "19. What are HTTP status codes, and why are they important in a Flask API?\n",
        "-> Flask API includes a set of named constants that you can use to make more code more obvious and readable. The full set of HTTP status codes included in the status module is listed below. The module also includes a set of helper functions for testing if a status code is in a given range."
      ],
      "metadata": {
        "id": "o6LFCkfT25BQ"
      }
    },
    {
      "cell_type": "markdown",
      "source": [
        "20. How do you handle POST requests in Flask?\n",
        "-> In Flask, POST requests are handled using route decorators with the methods=['POST'] option. You can access the data sent in the request using request.form for form data or request.get_json() for JSON data."
      ],
      "metadata": {
        "id": "mV2skmS32_hW"
      }
    },
    {
      "cell_type": "markdown",
      "source": [
        "21. How would you secure a Flask API?\n",
        "-> To protect your APIs built with Flask, it is essential to address several key security aspects: Use HTTPS: Employing HTTPS encrypts data in transit, preventing unauthorized access and mitigating the risk of man-in-the-middle attacks."
      ],
      "metadata": {
        "id": "W6PoOwEg3MAa"
      }
    },
    {
      "cell_type": "markdown",
      "source": [
        "22. What is the significance of the Flask-RESTful extension?\n",
        "-> The Flask-RESTful extension simplifies building RESTful APIs in Python by providing a Resource class for organizing endpoints and handling HTTP methods, automatic request parsing, and response formatting, and built-in support for validation and error handling."
      ],
      "metadata": {
        "id": "bP5UN5jo3P4k"
      }
    },
    {
      "cell_type": "markdown",
      "source": [
        "23. What is the role of Flask’s session object?\n",
        "-> Flask sessions in essence are used to remember information from one request to another when the user is navigating in your application. To achieve this, Flask Session will use cookies to persist this data, but, not only as plain text, it will use signed cookies to achieve this."
      ],
      "metadata": {
        "id": "cmZ0IA7t3Url"
      }
    },
    {
      "cell_type": "markdown",
      "source": [
        "#Practical questions"
      ],
      "metadata": {
        "id": "sTo0NSK13bFf"
      }
    },
    {
      "cell_type": "code",
      "source": [
        "# 1. How do you create a basic Flask application4\n",
        "from flask import Flask\n",
        "\n",
        "app = Flask(__name__)\n",
        "\n",
        "@app.route('/')\n",
        "def home():\n",
        "    return \"Hello, Flask!\"\n",
        "\n",
        "if __name__ == '__main__':\n",
        "    app.run(debug=True)"
      ],
      "metadata": {
        "id": "VVkCi1_kgDYz"
      },
      "execution_count": null,
      "outputs": []
    },
    {
      "cell_type": "code",
      "source": [
        "2. # How do you serve static files like images or CSS in Flask4\n",
        "<link rel=\"stylesheet\" href=\"{{ url_for('static', filename='style.css') }}\">\n",
        "<img src=\"{{ url_for('static', filename='image.png') }}\">"
      ],
      "metadata": {
        "id": "51lAWi_5cCPa"
      },
      "execution_count": null,
      "outputs": []
    },
    {
      "cell_type": "code",
      "source": [
        "# 3. How do you define different routes with different HTTP methods in Flask4\n",
        "@app.route('/submit', methods=['GET', 'POST'])\n",
        "def submit():\n",
        "    if request.method == 'POST':\n",
        "        return \"Form submitted\"\n",
        "    return \"Submit form\""
      ],
      "metadata": {
        "id": "XXJwAVaGceTK"
      },
      "execution_count": null,
      "outputs": []
    },
    {
      "cell_type": "code",
      "source": [
        "# 4. How do you render HTML templates in Flask4\n",
        "from flask import render_template\n",
        "\n",
        "@app.route('/hello')\n",
        "def hello():\n",
        "    return render_template('hello.html')  # Place hello.html in templates/"
      ],
      "metadata": {
        "id": "Xhr8oUurgQXO"
      },
      "execution_count": null,
      "outputs": []
    },
    {
      "cell_type": "code",
      "source": [
        "# 5. How can you generate URLs for routes in Flask using url_for4\n",
        "from flask import url_for\n",
        "\n",
        "@app.route('/profile')\n",
        "def profile():\n",
        "    return f\"Go to {url_for('home')}\""
      ],
      "metadata": {
        "id": "eZSp6Ll0gVgA"
      },
      "execution_count": null,
      "outputs": []
    },
    {
      "cell_type": "code",
      "source": [
        "# 6. How do you handle forms in Flask4\n",
        "from flask import request\n",
        "\n",
        "@app.route('/form', methods=['POST'])\n",
        "def form():\n",
        "    name = request.form['name']\n",
        "    return f\"Hello, {name}!\""
      ],
      "metadata": {
        "id": "vCrDxe_bgkPb"
      },
      "execution_count": null,
      "outputs": []
    },
    {
      "cell_type": "code",
      "source": [
        "# 7. How can you validate form data in Flask4\n",
        "@app.route('/validate', methods=['POST'])\n",
        "def validate():\n",
        "    name = request.form.get('name')\n",
        "    if not name:\n",
        "        return \"Name is required!\"\n",
        "    return f\"Welcome {name}\""
      ],
      "metadata": {
        "id": "Z8etXr0Cgsff"
      },
      "execution_count": null,
      "outputs": []
    },
    {
      "cell_type": "code",
      "source": [
        "# 8. How do you manage sessions in Flask4\n",
        "from flask import session\n",
        "\n",
        "app.secret_key = 'secret'\n",
        "\n",
        "@app.route('/login')\n",
        "def login():\n",
        "    session['user'] = 'John'\n",
        "    return \"Logged in\"\n",
        "\n",
        "@app.route('/profile')\n",
        "def profile():\n",
        "    user = session.get('user', 'Guest')\n",
        "    return f\"Hello, {user}\""
      ],
      "metadata": {
        "id": "me2GeG5-gxsR"
      },
      "execution_count": null,
      "outputs": []
    },
    {
      "cell_type": "code",
      "source": [
        "# 9. How do you redirect to a different route in Flask4\n",
        "from flask import redirect\n",
        "\n",
        "@app.route('/go-home')\n",
        "def go_home():\n",
        "    return redirect(url_for('home'))"
      ],
      "metadata": {
        "id": "8nh-64mXg06t"
      },
      "execution_count": null,
      "outputs": []
    },
    {
      "cell_type": "code",
      "source": [
        "# 10. How do you handle errors in Flask (e.g., 404)4\n",
        "@app.errorhandler(404)\n",
        "def page_not_found(e):\n",
        "    return \"Page not found!\", 404"
      ],
      "metadata": {
        "id": "zIiC3qN2g4mJ"
      },
      "execution_count": null,
      "outputs": []
    },
    {
      "cell_type": "code",
      "source": [
        "# 11. How do you structure a Flask app using Blueprints4\n",
        "# In user.py\n",
        "from flask import Blueprint\n",
        "\n",
        "user_bp = Blueprint('user', __name__)\n",
        "\n",
        "@user_bp.route('/user')\n",
        "def user_home():\n",
        "    return \"User Home\"\n",
        "\n",
        "# In app.py\n",
        "from user import user_bp\n",
        "\n",
        "app.register_blueprint(user_bp)"
      ],
      "metadata": {
        "id": "TgB9y1grg8lH"
      },
      "execution_count": null,
      "outputs": []
    },
    {
      "cell_type": "code",
      "source": [
        "# 12. How do you define a custom Jinja filter in Flask4\n",
        "def reverse_string(s):\n",
        "    return s[::-1]\n",
        "\n",
        "app.jinja_env.filters['reverse'] = reverse_string\n",
        "\n",
        "# In template: {{ 'hello'|reverse }} → 'olleh'"
      ],
      "metadata": {
        "id": "9N6WJ4lehB8P"
      },
      "execution_count": null,
      "outputs": []
    },
    {
      "cell_type": "code",
      "source": [
        "# 13. How can you redirect with query parameters in Flask4\n",
        "@app.route('/redirect-query')\n",
        "def redirect_query():\n",
        "    return redirect(url_for('home', msg='hello'))"
      ],
      "metadata": {
        "id": "mdjWIUq_hEpf"
      },
      "execution_count": null,
      "outputs": []
    },
    {
      "cell_type": "code",
      "source": [
        "# 14. How do you return JSON responses in Flask4\n",
        "from flask import jsonify\n",
        "\n",
        "@app.route('/json')\n",
        "def json_data():\n",
        "    return jsonify({'name': 'Alice', 'age': 30})"
      ],
      "metadata": {
        "id": "PGYQTYrihH7B"
      },
      "execution_count": null,
      "outputs": []
    },
    {
      "cell_type": "code",
      "source": [
        "# 15. How do you capture URL parameters in Flask?\n",
        "@app.route('/user/<username>')\n",
        "def show_user(username):\n",
        "    return f\"User: {username}\""
      ],
      "metadata": {
        "id": "ZfxNPX7UhLFb"
      },
      "execution_count": null,
      "outputs": []
    }
  ]
}